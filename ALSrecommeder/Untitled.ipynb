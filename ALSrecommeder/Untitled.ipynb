{
 "cells": [
  {
   "cell_type": "code",
   "execution_count": 11,
   "metadata": {},
   "outputs": [],
   "source": [
    "import pandas as pd\n",
    "import numpy as np"
   ]
  },
  {
   "cell_type": "code",
   "execution_count": 12,
   "metadata": {},
   "outputs": [],
   "source": [
    "#oarameter 설정\n",
    "confidence_rate=30\n",
    "latent_factor_dim=30\n",
    "latent_factor_alpha=0.01\n",
    "lamda_rate=40\n",
    "running= 10\n",
    "\n",
    "X=None\n",
    "Y=None\n",
    "p=None\n",
    "c=None"
   ]
  },
  {
   "cell_type": "code",
   "execution_count": 13,
   "metadata": {},
   "outputs": [],
   "source": [
    "def load_and_change(file):\n",
    "\n",
    "    f = open(file,\"r\")\n",
    "    temp=[]\n",
    "    for ele in f.read().split(\"\\n\"):\n",
    "        if ele != \"\":\n",
    "            temp.append(ele.split(\"\\t\"))\n",
    "      \n",
    "    data = pd.DataFrame(data=temp,columns=[\"user_id\", \"item_id\", \"rating\", \"time_stamp\"])\n",
    "    f.close()\n",
    "    data = data.apply(pd.to_numeric).drop([\"time_stamp\"],axis=1)\n",
    "    \n",
    "    Data_Matrix = data.pivot_table(\"rating\", index= \"user_id\", columns= \"item_id\",fill_value=0)\n",
    "    \n",
    "    return data ,Data_Matrix \n",
    "    \n",
    "    "
   ]
  },
  {
   "cell_type": "code",
   "execution_count": 14,
   "metadata": {},
   "outputs": [],
   "source": [
    "def init(df):\n",
    "    M = df.to_numpy()\n",
    "    #preference\n",
    "    p = np.where(M>0,1,M)   \n",
    "    \n",
    "    #confidence\n",
    "    c = 1+confidence_rate*M\n",
    "    \n",
    "    #latent fator\n",
    "    x,y = M.shape\n",
    "    \n",
    "    user_mat = np.random.rand(latent_factor_dim,x)*latent_factor_alpha\n",
    "    \n",
    "    item_mat = np.random.rand(latent_factor_dim,y)*latent_factor_alpha\n",
    "    \n",
    "    return p,c,user_mat,item_mat"
   ]
  },
  {
   "cell_type": "code",
   "execution_count": 15,
   "metadata": {},
   "outputs": [],
   "source": [
    "def cost_function():\n",
    "    err_mat=c * np.square(p-X.T@Y)\n",
    "    regularization= lamda_rate*(np.sum(np.square(X))+np.sum(np.square(Y)))\n",
    "    return np.sum(err_mat)+regularization\n",
    "    "
   ]
  },
  {
   "cell_type": "code",
   "execution_count": 16,
   "metadata": {},
   "outputs": [],
   "source": [
    "def cal_X_Y():\n",
    "    global X,Y\n",
    "    # X factor 계산 dx\n",
    "    \n",
    "    t_x=X.T #행벡터를 열벡터로 만들기 위해\n",
    "    t_y=Y.T\n",
    "    lamda_I=lamda_rate*np.identity(latent_factor_dim)\n",
    "    \n",
    "    for u in range(len(t_x)):\n",
    "        cu=np.diag(c[u])\n",
    "        Y_cu=Y@cu\n",
    "\n",
    "        t_x[u]=np.linalg.solve(Y_cu@Y.T + lamda_I,Y_cu@p[u])\n",
    "\n",
    "    for  i in range(len(t_y)):\n",
    "        ci=np.diag(c[:,i])\n",
    "        X_ci=X@ci\n",
    "        \n",
    "        t_y[i]=np.linalg.solve(X_ci@X.T+lamda_I,X_ci@p[:,i])\n",
    "    # Y factor 계산 dy"
   ]
  },
  {
   "cell_type": "code",
   "execution_count": 17,
   "metadata": {},
   "outputs": [],
   "source": [
    "d,m=load_and_change(\"u1.base\")\n",
    "p,c,X,Y = init(m)\n"
   ]
  },
  {
   "cell_type": "code",
   "execution_count": 18,
   "metadata": {},
   "outputs": [
    {
     "name": "stdout",
     "output_type": "stream",
     "text": [
      "2831484.8764451845\n",
      "730956.8959780224\n",
      "535203.7526029677\n"
     ]
    },
    {
     "ename": "KeyboardInterrupt",
     "evalue": "",
     "output_type": "error",
     "traceback": [
      "\u001b[1;31m---------------------------------------------------------------------------\u001b[0m",
      "\u001b[1;31mKeyboardInterrupt\u001b[0m                         Traceback (most recent call last)",
      "\u001b[1;32m<ipython-input-18-4141cf7a1864>\u001b[0m in \u001b[0;36m<module>\u001b[1;34m\u001b[0m\n\u001b[0;32m      1\u001b[0m \u001b[1;32mfor\u001b[0m \u001b[0mi\u001b[0m \u001b[1;32min\u001b[0m \u001b[0mrange\u001b[0m\u001b[1;33m(\u001b[0m\u001b[0mrunning\u001b[0m\u001b[1;33m)\u001b[0m\u001b[1;33m:\u001b[0m\u001b[1;33m\u001b[0m\u001b[1;33m\u001b[0m\u001b[0m\n\u001b[1;32m----> 2\u001b[1;33m     \u001b[0mcal_X_Y\u001b[0m\u001b[1;33m(\u001b[0m\u001b[1;33m)\u001b[0m\u001b[1;33m\u001b[0m\u001b[1;33m\u001b[0m\u001b[0m\n\u001b[0m\u001b[0;32m      3\u001b[0m     \u001b[0mprint\u001b[0m\u001b[1;33m(\u001b[0m\u001b[0mcost_function\u001b[0m\u001b[1;33m(\u001b[0m\u001b[1;33m)\u001b[0m\u001b[1;33m)\u001b[0m\u001b[1;33m\u001b[0m\u001b[1;33m\u001b[0m\u001b[0m\n",
      "\u001b[1;32m<ipython-input-16-f10e0df162b6>\u001b[0m in \u001b[0;36mcal_X_Y\u001b[1;34m()\u001b[0m\n\u001b[0;32m     11\u001b[0m         \u001b[0mY_cu\u001b[0m\u001b[1;33m=\u001b[0m\u001b[0mY\u001b[0m\u001b[1;33m@\u001b[0m\u001b[0mcu\u001b[0m\u001b[1;33m\u001b[0m\u001b[1;33m\u001b[0m\u001b[0m\n\u001b[0;32m     12\u001b[0m \u001b[1;33m\u001b[0m\u001b[0m\n\u001b[1;32m---> 13\u001b[1;33m         \u001b[0mt_x\u001b[0m\u001b[1;33m[\u001b[0m\u001b[0mu\u001b[0m\u001b[1;33m]\u001b[0m\u001b[1;33m=\u001b[0m\u001b[0mnp\u001b[0m\u001b[1;33m.\u001b[0m\u001b[0mlinalg\u001b[0m\u001b[1;33m.\u001b[0m\u001b[0msolve\u001b[0m\u001b[1;33m(\u001b[0m\u001b[0mY_cu\u001b[0m\u001b[1;33m@\u001b[0m\u001b[0mY\u001b[0m\u001b[1;33m.\u001b[0m\u001b[0mT\u001b[0m \u001b[1;33m+\u001b[0m \u001b[0mlamda_I\u001b[0m\u001b[1;33m,\u001b[0m\u001b[0mY_cu\u001b[0m\u001b[1;33m@\u001b[0m\u001b[0mp\u001b[0m\u001b[1;33m[\u001b[0m\u001b[0mu\u001b[0m\u001b[1;33m]\u001b[0m\u001b[1;33m)\u001b[0m\u001b[1;33m\u001b[0m\u001b[1;33m\u001b[0m\u001b[0m\n\u001b[0m\u001b[0;32m     14\u001b[0m \u001b[1;33m\u001b[0m\u001b[0m\n\u001b[0;32m     15\u001b[0m     \u001b[1;32mfor\u001b[0m  \u001b[0mi\u001b[0m \u001b[1;32min\u001b[0m \u001b[0mrange\u001b[0m\u001b[1;33m(\u001b[0m\u001b[0mlen\u001b[0m\u001b[1;33m(\u001b[0m\u001b[0mt_y\u001b[0m\u001b[1;33m)\u001b[0m\u001b[1;33m)\u001b[0m\u001b[1;33m:\u001b[0m\u001b[1;33m\u001b[0m\u001b[1;33m\u001b[0m\u001b[0m\n",
      "\u001b[1;31mKeyboardInterrupt\u001b[0m: "
     ]
    }
   ],
   "source": [
    "for i in range(running):\n",
    "    cal_X_Y()\n",
    "    print(cost_function())"
   ]
  },
  {
   "cell_type": "code",
   "execution_count": null,
   "metadata": {},
   "outputs": [],
   "source": [
    "w=X.T@Y\n",
    "wmax,wmin=np.max(w),np.min(w)\n",
    "w=(w-wmin)/(wmax-wmin)\n",
    "w=w*5\n",
    "d2,m2=load_and_change(\"u1.test\")"
   ]
  },
  {
   "cell_type": "code",
   "execution_count": null,
   "metadata": {},
   "outputs": [],
   "source": [
    "w"
   ]
  },
  {
   "cell_type": "code",
   "execution_count": null,
   "metadata": {},
   "outputs": [],
   "source": [
    "f=open(\"u1.base_prediction.txt\",\"w\")\n",
    "for i in range(len(d2)):\n",
    "    dx=d2.loc[i][0]\n",
    "    dy=d2.loc[i][1]\n",
    "    f.write(str(dx)+\"\\t\"+str(dy)+\"\\t\"+str(w[dx-1,dy-1])+'\\n')"
   ]
  },
  {
   "cell_type": "code",
   "execution_count": null,
   "metadata": {},
   "outputs": [],
   "source": []
  }
 ],
 "metadata": {
  "kernelspec": {
   "display_name": "Python 3",
   "language": "python",
   "name": "python3"
  },
  "language_info": {
   "codemirror_mode": {
    "name": "ipython",
    "version": 3
   },
   "file_extension": ".py",
   "mimetype": "text/x-python",
   "name": "python",
   "nbconvert_exporter": "python",
   "pygments_lexer": "ipython3",
   "version": "3.7.9"
  }
 },
 "nbformat": 4,
 "nbformat_minor": 4
}
